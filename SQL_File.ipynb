{
 "cells": [
  {
   "cell_type": "markdown",
   "id": "7220e5bd-d629-45e7-9852-cba1e7b9aa02",
   "metadata": {},
   "source": [
    "<h2>Working With SQL</h2>"
   ]
  },
  {
   "cell_type": "code",
   "execution_count": 1,
   "id": "be222dfe-0647-42f8-9773-d83d7e571606",
   "metadata": {},
   "outputs": [
    {
     "name": "stdout",
     "output_type": "stream",
     "text": [
      "Requirement already satisfied: pyodbc in c:\\users\\louis\\appdata\\local\\anaconda3\\lib\\site-packages (5.0.1)\n"
     ]
    }
   ],
   "source": [
    "!pip install pyodbc"
   ]
  },
  {
   "cell_type": "code",
   "execution_count": 2,
   "id": "0890330c-5c64-4a6a-b8dd-99304be20ebf",
   "metadata": {},
   "outputs": [],
   "source": [
    "import pyodbc\n",
    "import pandas as pd\n",
    "import numpy as np\n",
    "import matplotlib.pyplot as plt\n",
    "import seaborn as sns\n",
    "import warnings\n",
    "warnings.filterwarnings('ignore')"
   ]
  },
  {
   "cell_type": "code",
   "execution_count": 3,
   "id": "d8519e6d-c618-49de-b6e1-5d616992eb2c",
   "metadata": {},
   "outputs": [
    {
     "data": {
      "text/plain": [
       "['SQL Server',\n",
       " 'ODBC Driver 17 for SQL Server',\n",
       " 'SQL Server Native Client RDA 11.0',\n",
       " 'Microsoft Access Driver (*.mdb, *.accdb)',\n",
       " 'Microsoft Excel Driver (*.xls, *.xlsx, *.xlsm, *.xlsb)',\n",
       " 'Microsoft Access Text Driver (*.txt, *.csv)']"
      ]
     },
     "execution_count": 3,
     "metadata": {},
     "output_type": "execute_result"
    }
   ],
   "source": [
    "# Check available driver\n",
    "pyodbc.drivers()"
   ]
  },
  {
   "cell_type": "code",
   "execution_count": 4,
   "id": "ba1a7ece-bb8e-4b21-b1a3-f0fb07a4893f",
   "metadata": {},
   "outputs": [],
   "source": [
    "# Create MSSQL Connection\n",
    "connectionString = pyodbc.connect('driver={SQL Server};' 'Server=DESKTOP-6F66SDS\\SQLEXPRESS;' 'Database=Tutorials;' 'Trusted_connection=yes')"
   ]
  },
  {
   "cell_type": "code",
   "execution_count": 5,
   "id": "2c7e5ce7-e1cf-45c4-ab6e-269d4fefeeb7",
   "metadata": {},
   "outputs": [],
   "source": [
    "# SQL Command to read data\n",
    "sqlQuery = 'select * from dbo.studentInfo'"
   ]
  },
  {
   "cell_type": "code",
   "execution_count": 6,
   "id": "f51d99bb-2f20-4126-bbd6-951d7a19d59d",
   "metadata": {},
   "outputs": [],
   "source": [
    "# Load data to DataFrame\n",
    "df = pd.read_sql(sql =sqlQuery, con = connectionString)"
   ]
  },
  {
   "cell_type": "code",
   "execution_count": 7,
   "id": "a5d23f76-9ee6-495e-8ce1-c272f83572e4",
   "metadata": {},
   "outputs": [
    {
     "data": {
      "text/html": [
       "<div>\n",
       "<style scoped>\n",
       "    .dataframe tbody tr th:only-of-type {\n",
       "        vertical-align: middle;\n",
       "    }\n",
       "\n",
       "    .dataframe tbody tr th {\n",
       "        vertical-align: top;\n",
       "    }\n",
       "\n",
       "    .dataframe thead th {\n",
       "        text-align: right;\n",
       "    }\n",
       "</style>\n",
       "<table border=\"1\" class=\"dataframe\">\n",
       "  <thead>\n",
       "    <tr style=\"text-align: right;\">\n",
       "      <th></th>\n",
       "      <th>studentid</th>\n",
       "      <th>firstName</th>\n",
       "      <th>LastName</th>\n",
       "      <th>Age</th>\n",
       "      <th>Gender</th>\n",
       "      <th>PhoneNumber</th>\n",
       "    </tr>\n",
       "  </thead>\n",
       "  <tbody>\n",
       "    <tr>\n",
       "      <th>0</th>\n",
       "      <td>101</td>\n",
       "      <td>Jacobson</td>\n",
       "      <td>Koryele</td>\n",
       "      <td>23</td>\n",
       "      <td>Male</td>\n",
       "      <td>08073528362</td>\n",
       "    </tr>\n",
       "    <tr>\n",
       "      <th>1</th>\n",
       "      <td>102</td>\n",
       "      <td>Mark</td>\n",
       "      <td>Henry</td>\n",
       "      <td>45</td>\n",
       "      <td>Male</td>\n",
       "      <td>08035464631</td>\n",
       "    </tr>\n",
       "    <tr>\n",
       "      <th>2</th>\n",
       "      <td>103</td>\n",
       "      <td>Blue</td>\n",
       "      <td>Kamsi</td>\n",
       "      <td>22</td>\n",
       "      <td>Female</td>\n",
       "      <td>08163524522</td>\n",
       "    </tr>\n",
       "    <tr>\n",
       "      <th>3</th>\n",
       "      <td>104</td>\n",
       "      <td>Chris</td>\n",
       "      <td>Sam</td>\n",
       "      <td>24</td>\n",
       "      <td>Male</td>\n",
       "      <td>08066124320</td>\n",
       "    </tr>\n",
       "    <tr>\n",
       "      <th>4</th>\n",
       "      <td>105</td>\n",
       "      <td>Kamanu</td>\n",
       "      <td>Timothy</td>\n",
       "      <td>34</td>\n",
       "      <td>Male</td>\n",
       "      <td>07032567211</td>\n",
       "    </tr>\n",
       "  </tbody>\n",
       "</table>\n",
       "</div>"
      ],
      "text/plain": [
       "   studentid firstName LastName  Age  Gender  PhoneNumber\n",
       "0        101  Jacobson  Koryele   23    Male  08073528362\n",
       "1        102      Mark    Henry   45    Male  08035464631\n",
       "2        103      Blue    Kamsi   22  Female  08163524522\n",
       "3        104     Chris      Sam   24    Male  08066124320\n",
       "4        105    Kamanu  Timothy   34    Male  07032567211"
      ]
     },
     "execution_count": 7,
     "metadata": {},
     "output_type": "execute_result"
    }
   ],
   "source": [
    "df.head()"
   ]
  },
  {
   "cell_type": "code",
   "execution_count": 8,
   "id": "24f76244-9cda-4a0c-b210-3df41b4e2778",
   "metadata": {},
   "outputs": [
    {
     "name": "stdout",
     "output_type": "stream",
     "text": [
      "<class 'pandas.core.frame.DataFrame'>\n",
      "RangeIndex: 10 entries, 0 to 9\n",
      "Data columns (total 6 columns):\n",
      " #   Column       Non-Null Count  Dtype \n",
      "---  ------       --------------  ----- \n",
      " 0   studentid    10 non-null     int64 \n",
      " 1   firstName    10 non-null     object\n",
      " 2   LastName     10 non-null     object\n",
      " 3   Age          10 non-null     int64 \n",
      " 4   Gender       10 non-null     object\n",
      " 5   PhoneNumber  10 non-null     object\n",
      "dtypes: int64(2), object(4)\n",
      "memory usage: 612.0+ bytes\n"
     ]
    }
   ],
   "source": [
    "# Check data info\n",
    "df.info()"
   ]
  },
  {
   "cell_type": "code",
   "execution_count": 9,
   "id": "da507f3e-e546-47f8-9a0b-62ead4fe20f4",
   "metadata": {},
   "outputs": [
    {
     "data": {
      "text/plain": [
       "(10, 6)"
      ]
     },
     "execution_count": 9,
     "metadata": {},
     "output_type": "execute_result"
    }
   ],
   "source": [
    "# Shape of data\n",
    "df.shape"
   ]
  },
  {
   "cell_type": "code",
   "execution_count": 10,
   "id": "8cc31cd5-b5e6-4d1b-b15e-7360b76af03f",
   "metadata": {},
   "outputs": [
    {
     "data": {
      "text/plain": [
       "Gender\n",
       "Male      5\n",
       "Female    5\n",
       "Name: count, dtype: int64"
      ]
     },
     "execution_count": 10,
     "metadata": {},
     "output_type": "execute_result"
    }
   ],
   "source": [
    "# Value counts\n",
    "df.Gender.value_counts()"
   ]
  },
  {
   "cell_type": "code",
   "execution_count": 11,
   "id": "f1c29bfd-df66-47a3-8039-7978ea0464a7",
   "metadata": {},
   "outputs": [
    {
     "data": {
      "text/html": [
       "<div>\n",
       "<style scoped>\n",
       "    .dataframe tbody tr th:only-of-type {\n",
       "        vertical-align: middle;\n",
       "    }\n",
       "\n",
       "    .dataframe tbody tr th {\n",
       "        vertical-align: top;\n",
       "    }\n",
       "\n",
       "    .dataframe thead th {\n",
       "        text-align: right;\n",
       "    }\n",
       "</style>\n",
       "<table border=\"1\" class=\"dataframe\">\n",
       "  <thead>\n",
       "    <tr style=\"text-align: right;\">\n",
       "      <th>Age</th>\n",
       "      <th>21</th>\n",
       "      <th>22</th>\n",
       "      <th>23</th>\n",
       "      <th>24</th>\n",
       "      <th>29</th>\n",
       "      <th>31</th>\n",
       "      <th>32</th>\n",
       "      <th>34</th>\n",
       "      <th>45</th>\n",
       "      <th>65</th>\n",
       "    </tr>\n",
       "    <tr>\n",
       "      <th>Gender</th>\n",
       "      <th></th>\n",
       "      <th></th>\n",
       "      <th></th>\n",
       "      <th></th>\n",
       "      <th></th>\n",
       "      <th></th>\n",
       "      <th></th>\n",
       "      <th></th>\n",
       "      <th></th>\n",
       "      <th></th>\n",
       "    </tr>\n",
       "  </thead>\n",
       "  <tbody>\n",
       "    <tr>\n",
       "      <th>Female</th>\n",
       "      <td>1</td>\n",
       "      <td>1</td>\n",
       "      <td>0</td>\n",
       "      <td>0</td>\n",
       "      <td>1</td>\n",
       "      <td>0</td>\n",
       "      <td>1</td>\n",
       "      <td>0</td>\n",
       "      <td>0</td>\n",
       "      <td>1</td>\n",
       "    </tr>\n",
       "    <tr>\n",
       "      <th>Male</th>\n",
       "      <td>0</td>\n",
       "      <td>0</td>\n",
       "      <td>1</td>\n",
       "      <td>1</td>\n",
       "      <td>0</td>\n",
       "      <td>1</td>\n",
       "      <td>0</td>\n",
       "      <td>1</td>\n",
       "      <td>1</td>\n",
       "      <td>0</td>\n",
       "    </tr>\n",
       "  </tbody>\n",
       "</table>\n",
       "</div>"
      ],
      "text/plain": [
       "Age     21  22  23  24  29  31  32  34  45  65\n",
       "Gender                                        \n",
       "Female   1   1   0   0   1   0   1   0   0   1\n",
       "Male     0   0   1   1   0   1   0   1   1   0"
      ]
     },
     "execution_count": 11,
     "metadata": {},
     "output_type": "execute_result"
    }
   ],
   "source": [
    "# Crosstab\n",
    "pd.crosstab(df.Gender, df.Age)"
   ]
  },
  {
   "cell_type": "code",
   "execution_count": 12,
   "id": "fc701491-8f40-4965-8e52-2b6c94b0d207",
   "metadata": {},
   "outputs": [
    {
     "data": {
      "text/plain": [
       "studentid      0\n",
       "firstName      0\n",
       "LastName       0\n",
       "Age            0\n",
       "Gender         0\n",
       "PhoneNumber    0\n",
       "dtype: int64"
      ]
     },
     "execution_count": 12,
     "metadata": {},
     "output_type": "execute_result"
    }
   ],
   "source": [
    "# Check missing data\n",
    "df.isnull().sum()"
   ]
  },
  {
   "cell_type": "code",
   "execution_count": 13,
   "id": "884c8d85-6be4-4b68-b499-788e9ad65f1d",
   "metadata": {},
   "outputs": [
    {
     "data": {
      "text/plain": [
       "0  studentid              101\n",
       "   firstName         Jacobson\n",
       "   LastName           Koryele\n",
       "   Age                     23\n",
       "   Gender                Male\n",
       "   PhoneNumber    08073528362\n",
       "1  studentid              102\n",
       "   firstName             Mark\n",
       "   LastName             Henry\n",
       "   Age                     45\n",
       "   Gender                Male\n",
       "   PhoneNumber    08035464631\n",
       "2  studentid              103\n",
       "   firstName             Blue\n",
       "   LastName             Kamsi\n",
       "   Age                     22\n",
       "   Gender              Female\n",
       "   PhoneNumber    08163524522\n",
       "3  studentid              104\n",
       "   firstName            Chris\n",
       "   LastName               Sam\n",
       "   Age                     24\n",
       "   Gender                Male\n",
       "   PhoneNumber    08066124320\n",
       "4  studentid              105\n",
       "   firstName           Kamanu\n",
       "   LastName           Timothy\n",
       "   Age                     34\n",
       "   Gender                Male\n",
       "   PhoneNumber    07032567211\n",
       "5  studentid              106\n",
       "   firstName         Victoria\n",
       "   LastName               Jay\n",
       "   Age                     21\n",
       "   Gender              Female\n",
       "   PhoneNumber    07033217890\n",
       "6  studentid              107\n",
       "   firstName            Flora\n",
       "   LastName               Jay\n",
       "   Age                     32\n",
       "   Gender              Female\n",
       "   PhoneNumber    08031216542\n",
       "7  studentid              108\n",
       "   firstName           Divine\n",
       "   LastName            Philip\n",
       "   Age                     29\n",
       "   Gender              Female\n",
       "   PhoneNumber     0903321344\n",
       "8  studentid              109\n",
       "   firstName             Remi\n",
       "   LastName             Oluwa\n",
       "   Age                     65\n",
       "   Gender              Female\n",
       "   PhoneNumber    08189765432\n",
       "9  studentid              110\n",
       "   firstName         Jefferey\n",
       "   LastName         Babetunde\n",
       "   Age                     31\n",
       "   Gender                Male\n",
       "   PhoneNumber     0808543231\n",
       "dtype: object"
      ]
     },
     "execution_count": 13,
     "metadata": {},
     "output_type": "execute_result"
    }
   ],
   "source": [
    "# Data Overview\n",
    "df.stack()"
   ]
  },
  {
   "cell_type": "code",
   "execution_count": 14,
   "id": "b5e7b301-826e-4d54-ba1c-f12641a29bc4",
   "metadata": {},
   "outputs": [
    {
     "data": {
      "text/html": [
       "<div>\n",
       "<style scoped>\n",
       "    .dataframe tbody tr th:only-of-type {\n",
       "        vertical-align: middle;\n",
       "    }\n",
       "\n",
       "    .dataframe tbody tr th {\n",
       "        vertical-align: top;\n",
       "    }\n",
       "\n",
       "    .dataframe thead th {\n",
       "        text-align: right;\n",
       "    }\n",
       "</style>\n",
       "<table border=\"1\" class=\"dataframe\">\n",
       "  <thead>\n",
       "    <tr style=\"text-align: right;\">\n",
       "      <th></th>\n",
       "      <th>count</th>\n",
       "      <th>mean</th>\n",
       "      <th>std</th>\n",
       "      <th>min</th>\n",
       "      <th>25%</th>\n",
       "      <th>50%</th>\n",
       "      <th>75%</th>\n",
       "      <th>max</th>\n",
       "    </tr>\n",
       "  </thead>\n",
       "  <tbody>\n",
       "    <tr>\n",
       "      <th>studentid</th>\n",
       "      <td>10.0</td>\n",
       "      <td>105.5</td>\n",
       "      <td>3.027650</td>\n",
       "      <td>101.0</td>\n",
       "      <td>103.25</td>\n",
       "      <td>105.5</td>\n",
       "      <td>107.75</td>\n",
       "      <td>110.0</td>\n",
       "    </tr>\n",
       "    <tr>\n",
       "      <th>Age</th>\n",
       "      <td>10.0</td>\n",
       "      <td>32.6</td>\n",
       "      <td>13.475904</td>\n",
       "      <td>21.0</td>\n",
       "      <td>23.25</td>\n",
       "      <td>30.0</td>\n",
       "      <td>33.50</td>\n",
       "      <td>65.0</td>\n",
       "    </tr>\n",
       "  </tbody>\n",
       "</table>\n",
       "</div>"
      ],
      "text/plain": [
       "           count   mean        std    min     25%    50%     75%    max\n",
       "studentid   10.0  105.5   3.027650  101.0  103.25  105.5  107.75  110.0\n",
       "Age         10.0   32.6  13.475904   21.0   23.25   30.0   33.50   65.0"
      ]
     },
     "execution_count": 14,
     "metadata": {},
     "output_type": "execute_result"
    }
   ],
   "source": [
    "# Data stat\n",
    "df.describe().T"
   ]
  },
  {
   "cell_type": "code",
   "execution_count": 15,
   "id": "c4329f8d-430a-4f20-9dc3-439270cc8fe8",
   "metadata": {},
   "outputs": [
    {
     "data": {
      "text/plain": [
       "65"
      ]
     },
     "execution_count": 15,
     "metadata": {},
     "output_type": "execute_result"
    }
   ],
   "source": [
    "# Max Value for age\n",
    "df.Age.max()"
   ]
  },
  {
   "cell_type": "code",
   "execution_count": 16,
   "id": "c73f3c5d-bfdc-4324-8ab9-35e3cd21b1c7",
   "metadata": {},
   "outputs": [
    {
     "data": {
      "text/plain": [
       "21"
      ]
     },
     "execution_count": 16,
     "metadata": {},
     "output_type": "execute_result"
    }
   ],
   "source": [
    "# Min Age Value\n",
    "df.Age.min()"
   ]
  },
  {
   "cell_type": "code",
   "execution_count": 17,
   "id": "42d0369e-266f-448e-8af5-b08417518fc4",
   "metadata": {},
   "outputs": [
    {
     "data": {
      "text/plain": [
       "8"
      ]
     },
     "execution_count": 17,
     "metadata": {},
     "output_type": "execute_result"
    }
   ],
   "source": [
    "# Index of max\n",
    "df.Age.idxmax()"
   ]
  },
  {
   "cell_type": "code",
   "execution_count": 18,
   "id": "4fc17b0d-c8c8-426d-b169-1dadde04178a",
   "metadata": {},
   "outputs": [
    {
     "data": {
      "text/plain": [
       "5"
      ]
     },
     "execution_count": 18,
     "metadata": {},
     "output_type": "execute_result"
    }
   ],
   "source": [
    "# Index of min\n",
    "df.Age.idxmin()"
   ]
  },
  {
   "cell_type": "code",
   "execution_count": 19,
   "id": "0b42825d-37b7-4bcd-ac7a-e82055a6dcbe",
   "metadata": {},
   "outputs": [
    {
     "data": {
      "text/html": [
       "<div>\n",
       "<style scoped>\n",
       "    .dataframe tbody tr th:only-of-type {\n",
       "        vertical-align: middle;\n",
       "    }\n",
       "\n",
       "    .dataframe tbody tr th {\n",
       "        vertical-align: top;\n",
       "    }\n",
       "\n",
       "    .dataframe thead th {\n",
       "        text-align: right;\n",
       "    }\n",
       "</style>\n",
       "<table border=\"1\" class=\"dataframe\">\n",
       "  <thead>\n",
       "    <tr style=\"text-align: right;\">\n",
       "      <th></th>\n",
       "      <th>studentid</th>\n",
       "      <th>firstName</th>\n",
       "      <th>LastName</th>\n",
       "      <th>Age</th>\n",
       "      <th>Gender</th>\n",
       "      <th>PhoneNumber</th>\n",
       "    </tr>\n",
       "  </thead>\n",
       "  <tbody>\n",
       "    <tr>\n",
       "      <th>1</th>\n",
       "      <td>102</td>\n",
       "      <td>Mark</td>\n",
       "      <td>Henry</td>\n",
       "      <td>45</td>\n",
       "      <td>Male</td>\n",
       "      <td>08035464631</td>\n",
       "    </tr>\n",
       "    <tr>\n",
       "      <th>4</th>\n",
       "      <td>105</td>\n",
       "      <td>Kamanu</td>\n",
       "      <td>Timothy</td>\n",
       "      <td>34</td>\n",
       "      <td>Male</td>\n",
       "      <td>07032567211</td>\n",
       "    </tr>\n",
       "    <tr>\n",
       "      <th>6</th>\n",
       "      <td>107</td>\n",
       "      <td>Flora</td>\n",
       "      <td>Jay</td>\n",
       "      <td>32</td>\n",
       "      <td>Female</td>\n",
       "      <td>08031216542</td>\n",
       "    </tr>\n",
       "    <tr>\n",
       "      <th>8</th>\n",
       "      <td>109</td>\n",
       "      <td>Remi</td>\n",
       "      <td>Oluwa</td>\n",
       "      <td>65</td>\n",
       "      <td>Female</td>\n",
       "      <td>08189765432</td>\n",
       "    </tr>\n",
       "    <tr>\n",
       "      <th>9</th>\n",
       "      <td>110</td>\n",
       "      <td>Jefferey</td>\n",
       "      <td>Babetunde</td>\n",
       "      <td>31</td>\n",
       "      <td>Male</td>\n",
       "      <td>0808543231</td>\n",
       "    </tr>\n",
       "  </tbody>\n",
       "</table>\n",
       "</div>"
      ],
      "text/plain": [
       "   studentid firstName   LastName  Age  Gender  PhoneNumber\n",
       "1        102      Mark      Henry   45    Male  08035464631\n",
       "4        105    Kamanu    Timothy   34    Male  07032567211\n",
       "6        107     Flora        Jay   32  Female  08031216542\n",
       "8        109      Remi      Oluwa   65  Female  08189765432\n",
       "9        110  Jefferey  Babetunde   31    Male   0808543231"
      ]
     },
     "execution_count": 19,
     "metadata": {},
     "output_type": "execute_result"
    }
   ],
   "source": [
    "df[df['Age'] >= 30]"
   ]
  },
  {
   "cell_type": "code",
   "execution_count": 20,
   "id": "8a4b9168-ffec-41db-bddd-07062a8a668b",
   "metadata": {},
   "outputs": [
    {
     "data": {
      "text/plain": [
       "10"
      ]
     },
     "execution_count": 20,
     "metadata": {},
     "output_type": "execute_result"
    }
   ],
   "source": [
    "df.Age.nunique()"
   ]
  },
  {
   "cell_type": "code",
   "execution_count": 21,
   "id": "cdaffdea-fe58-4777-9775-781545ed2d59",
   "metadata": {},
   "outputs": [
    {
     "data": {
      "text/plain": [
       "0     50.000000\n",
       "1     55.555556\n",
       "2     61.111111\n",
       "3     66.666667\n",
       "4     72.222222\n",
       "5     77.777778\n",
       "6     83.333333\n",
       "7     88.888889\n",
       "8     94.444444\n",
       "9    100.000000\n",
       "Name: Average, dtype: float64"
      ]
     },
     "execution_count": 21,
     "metadata": {},
     "output_type": "execute_result"
    }
   ],
   "source": [
    "df['Average'] = np.linspace(50, 100, 10)\n",
    "df.Average"
   ]
  },
  {
   "cell_type": "code",
   "execution_count": 23,
   "id": "3923ca6d-00ce-4ddd-a7e7-5267fadf814c",
   "metadata": {},
   "outputs": [],
   "source": [
    "df.Average = round(df.Average, 2)"
   ]
  },
  {
   "cell_type": "code",
   "execution_count": 24,
   "id": "b62ac676-ec97-40cf-a6ad-155a69c05455",
   "metadata": {},
   "outputs": [
    {
     "data": {
      "text/html": [
       "<div>\n",
       "<style scoped>\n",
       "    .dataframe tbody tr th:only-of-type {\n",
       "        vertical-align: middle;\n",
       "    }\n",
       "\n",
       "    .dataframe tbody tr th {\n",
       "        vertical-align: top;\n",
       "    }\n",
       "\n",
       "    .dataframe thead th {\n",
       "        text-align: right;\n",
       "    }\n",
       "</style>\n",
       "<table border=\"1\" class=\"dataframe\">\n",
       "  <thead>\n",
       "    <tr style=\"text-align: right;\">\n",
       "      <th></th>\n",
       "      <th>studentid</th>\n",
       "      <th>firstName</th>\n",
       "      <th>LastName</th>\n",
       "      <th>Age</th>\n",
       "      <th>Gender</th>\n",
       "      <th>PhoneNumber</th>\n",
       "      <th>Average</th>\n",
       "    </tr>\n",
       "  </thead>\n",
       "  <tbody>\n",
       "    <tr>\n",
       "      <th>5</th>\n",
       "      <td>106</td>\n",
       "      <td>Victoria</td>\n",
       "      <td>Jay</td>\n",
       "      <td>21</td>\n",
       "      <td>Female</td>\n",
       "      <td>07033217890</td>\n",
       "      <td>77.78</td>\n",
       "    </tr>\n",
       "    <tr>\n",
       "      <th>6</th>\n",
       "      <td>107</td>\n",
       "      <td>Flora</td>\n",
       "      <td>Jay</td>\n",
       "      <td>32</td>\n",
       "      <td>Female</td>\n",
       "      <td>08031216542</td>\n",
       "      <td>83.33</td>\n",
       "    </tr>\n",
       "    <tr>\n",
       "      <th>7</th>\n",
       "      <td>108</td>\n",
       "      <td>Divine</td>\n",
       "      <td>Philip</td>\n",
       "      <td>29</td>\n",
       "      <td>Female</td>\n",
       "      <td>0903321344</td>\n",
       "      <td>88.89</td>\n",
       "    </tr>\n",
       "    <tr>\n",
       "      <th>8</th>\n",
       "      <td>109</td>\n",
       "      <td>Remi</td>\n",
       "      <td>Oluwa</td>\n",
       "      <td>65</td>\n",
       "      <td>Female</td>\n",
       "      <td>08189765432</td>\n",
       "      <td>94.44</td>\n",
       "    </tr>\n",
       "    <tr>\n",
       "      <th>9</th>\n",
       "      <td>110</td>\n",
       "      <td>Jefferey</td>\n",
       "      <td>Babetunde</td>\n",
       "      <td>31</td>\n",
       "      <td>Male</td>\n",
       "      <td>0808543231</td>\n",
       "      <td>100.00</td>\n",
       "    </tr>\n",
       "  </tbody>\n",
       "</table>\n",
       "</div>"
      ],
      "text/plain": [
       "   studentid firstName   LastName  Age  Gender  PhoneNumber  Average\n",
       "5        106  Victoria        Jay   21  Female  07033217890    77.78\n",
       "6        107     Flora        Jay   32  Female  08031216542    83.33\n",
       "7        108    Divine     Philip   29  Female   0903321344    88.89\n",
       "8        109      Remi      Oluwa   65  Female  08189765432    94.44\n",
       "9        110  Jefferey  Babetunde   31    Male   0808543231   100.00"
      ]
     },
     "execution_count": 24,
     "metadata": {},
     "output_type": "execute_result"
    }
   ],
   "source": [
    "df.tail()"
   ]
  },
  {
   "cell_type": "code",
   "execution_count": null,
   "id": "d2713a9f-ae2c-4e9b-a02e-fcf558e1d225",
   "metadata": {},
   "outputs": [],
   "source": [
    "df.drop(columns=\"Grade\", inplace=True)"
   ]
  },
  {
   "cell_type": "code",
   "execution_count": null,
   "id": "74270124-2133-4e2f-9941-9f6629855ffc",
   "metadata": {},
   "outputs": [],
   "source": [
    "def Grade(n):\n",
    "    if n == 50.0 or n <= 60.0:\n",
    "        return \"C\"\n",
    "    elif n == 61.0 or n <= 70.0:\n",
    "        return \"B\"\n",
    "    else:\n",
    "        return \"A\""
   ]
  },
  {
   "cell_type": "code",
   "execution_count": null,
   "id": "502dba5f-87b7-4138-81d2-3e357ce9eb5c",
   "metadata": {},
   "outputs": [],
   "source": [
    "df['Grade'] = df['Average'].apply(Grade)"
   ]
  },
  {
   "cell_type": "code",
   "execution_count": null,
   "id": "0ea6535d-7f94-422f-af89-519a1ab0c3c7",
   "metadata": {},
   "outputs": [],
   "source": [
    "df.head()"
   ]
  },
  {
   "cell_type": "code",
   "execution_count": null,
   "id": "b396d8cd-bef3-4277-9d24-aae9cdaf6d33",
   "metadata": {},
   "outputs": [],
   "source": [
    "df.loc[[2,3,4]]"
   ]
  },
  {
   "cell_type": "code",
   "execution_count": null,
   "id": "82a6240c-97c4-4c17-ab4b-3c50877eb0d4",
   "metadata": {},
   "outputs": [],
   "source": [
    "#pivot Table\n",
    "# pd.pivot_table(df, values='Grade', index=['Gender', 'Age'], columns=['Average'], aggfunc=sum)\n",
    "pd.pivot_table(df, values='Grade', index=['Gender', 'Age'], aggfunc=sum)"
   ]
  },
  {
   "cell_type": "code",
   "execution_count": null,
   "id": "d7a45048-9d77-43f5-8c2c-ca3660c17d46",
   "metadata": {},
   "outputs": [],
   "source": [
    "df.describe().columns"
   ]
  },
  {
   "cell_type": "markdown",
   "id": "be9a6880-f6dd-4d77-96e4-847ea602ed8d",
   "metadata": {},
   "source": [
    "<h2>Data Visualisation</h2>"
   ]
  },
  {
   "cell_type": "code",
   "execution_count": null,
   "id": "b2f60433-beeb-4d57-b5c5-85ddac49ce7d",
   "metadata": {},
   "outputs": [],
   "source": [
    "fig = plt.figure(figsize=[5,4]);\n",
    "sns.catplot(data=df, x='Gender', y='Age',hue='Grade');\n",
    "plt.xlabel(\"Gender\");\n",
    "plt.ylabel('Age');\n",
    "plt.show();"
   ]
  },
  {
   "cell_type": "code",
   "execution_count": null,
   "id": "d932a88e-1726-47e1-ac50-9f1e2cbe1538",
   "metadata": {},
   "outputs": [],
   "source": [
    "fig = plt.figure(figsize=[4,5])\n",
    "sns.barplot(data= df, x='Average', y='Grade', hue='Gender')\n",
    "plt.xlabel('Average')\n",
    "plt.ylabel('Grade')"
   ]
  },
  {
   "cell_type": "code",
   "execution_count": null,
   "id": "611bf0de-24df-4de9-b2be-a8482b28d983",
   "metadata": {},
   "outputs": [],
   "source": [
    "fig = plt.figure(figsize=[4,3]);\n",
    "sns.kdeplot(data=df, x='Age', y='Average', hue=\"Gender\");\n",
    "plt.xlabel('Age');\n",
    "plt.ylabel('Average');"
   ]
  },
  {
   "cell_type": "code",
   "execution_count": 92,
   "id": "44ce44c6-11e4-423c-9228-3d30d21900ae",
   "metadata": {},
   "outputs": [
    {
     "data": {
      "text/plain": [
       "<Axes: >"
      ]
     },
     "execution_count": 92,
     "metadata": {},
     "output_type": "execute_result"
    },
    {
     "data": {
      "image/png": "[encoded data removed]",
      "text/plain": [
       "<Figure size 640x480 with 2 Axes>"
      ]
     },
     "metadata": {},
     "output_type": "display_data"
    }
   ],
   "source": [
    "sns.heatmap(df[['studentid', 'Age', 'Average']])"
   ]
  },
  {
   "cell_type": "code",
   "execution_count": null,
   "id": "44d779e1-7be7-4193-bd48-6dde6f2d17ba",
   "metadata": {},
   "outputs": [],
   "source": []
  }
 ],
 "metadata": {
  "kernelspec": {
   "display_name": "Python 3 (ipykernel)",
   "language": "python",
   "name": "python3"
  },
  "language_info": {
   "codemirror_mode": {
    "name": "ipython",
    "version": 3
   },
   "file_extension": ".py",
   "mimetype": "text/x-python",
   "name": "python",
   "nbconvert_exporter": "python",
   "pygments_lexer": "ipython3",
   "version": "3.11.7"
  }
 },
 "nbformat": 4,
 "nbformat_minor": 5
}
